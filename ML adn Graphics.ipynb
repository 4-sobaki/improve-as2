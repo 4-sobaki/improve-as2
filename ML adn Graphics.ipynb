{
 "cells": [
  {
   "cell_type": "code",
   "execution_count": null,
   "metadata": {
    "cellId": "2pngfyc0wh5fm4r0nsxhj"
   },
   "outputs": [],
   "source": [
    "#Импортируем нужные библиотеки\n",
    "\n",
    "\n",
    "\n",
    "# from sklearn.preprocessing import OrdinalEncoder\n",
    "# from sklearn.linear_model import LinearRegression\n",
    "# from sklearn.ensemble import RandomForestClassifier\n",
    "# from sklearn.metrics import recall_score\n",
    "# from sklearn.model_selection import train_test_split\n",
    "# from sklearn.preprocessing import StandardScaler\n",
    "# from sklearn.ensemble import RandomForestClassifier\n",
    "# from sklearn.datasets import make_classification\n",
    "# import tensorflow as tf\n",
    "\n",
    "# %pip install seaborn\n",
    "# import seaborn as sns\n",
    "\n",
    "import numpy as np\n",
    "import matplotlib.pyplot as plt\n",
    "import datetime\n",
    "import pandas as pd\n",
    "import seaborn as sns\n"
   ]
  },
  {
   "cell_type": "code",
   "execution_count": null,
   "metadata": {
    "cellId": "cuqng69qulsl97r34ykf5"
   },
   "outputs": [],
   "source": [
    "df = pd.read_csv('file') \n",
    "df.columns\n",
    "\n",
    "sns.set_theme(style=\"ticks\")\n",
    "sns.set(rc={'axes.facecolor':'#C4DFE3', 'figure.facecolor':'#64a8b3'})\n"
   ]
  },
  {
   "cell_type": "code",
   "execution_count": null,
   "metadata": {
    "cellId": "tw29v7ebu7fz3bwbdv90i"
   },
   "outputs": [],
   "source": [
    "\n",
    "\n",
    "bars = {\n",
    "    'x': 'data',\n",
    "    'y': 'data',\n",
    "}\n",
    "\n",
    "dfbars = pd.DataFrame.from_dict(bars)\n",
    "dfbars = dfbars.sort_values(by=['y'])\n",
    "bar = dfbars.set_index('x').plot(kind='bar', stacked=True, color=['#64a8b3', '#C4DFE3'])\n",
    "bar.set(title='Зависимость от параметров')\n",
    "bar.set(ylabel=None, xlabel=None)\n",
    "\n",
    "\n",
    "fig = plt.gcf()\n",
    "fig.set_size_inches(18.5, 10.5)\n",
    "plt.savefig('districts.png')\n"
   ]
  },
  {
   "cell_type": "code",
   "execution_count": null,
   "metadata": {
    "cellId": "3jhxcm8kagnfriajo8531"
   },
   "outputs": [],
   "source": [
    "sns.scatterplot(data = df, x = \"latitude\", y = \"longitude\", hue='duplicate', hue_order=[False, True],size = 'duplicate',  sizes = {False : 20, True : 120})\n",
    "fig = plt.gcf()\n",
    "fig.set_size_inches(18.5, 10.5)\n",
    "plt.savefig('duplicate.png')\n"
   ]
  },
  {
   "cell_type": "code",
   "execution_count": null,
   "metadata": {
    "cellId": "xeqsfduae332lqubmbiug"
   },
   "outputs": [],
   "source": [
    "\n",
    "\n",
    "pdata = (df.duplicate.value_counts())\n",
    "data = [df['duplicate'], 25, 25, 30, 5]\n",
    "labels = ['Not Duplicate', 'Duplicate']\n",
    "\n",
    "#define Seaborn color palette to use\n",
    "# colors = sns.color_palette('pastel')[0:5]\n",
    "\n",
    "#create pie chart\n",
    "plt.pie(pdata, labels = labels, autopct='%.0f%%')\n",
    "fig = plt.gcf()\n",
    "fig.set_size_inches(18.5, 10.5)\n",
    "plt.savefig('dupperc.png')\n"
   ]
  },
  {
   "cell_type": "code",
   "execution_count": null,
   "metadata": {
    "cellId": "hvjno23159jpq4t9v6zrgc"
   },
   "outputs": [],
   "source": [
    "sns.scatterplot(data = odf, x = \"latitude\", y = \"longitude\", hue='covered', size = 'covered', sizes = {False : 20, True : 120})\n",
    "fig = plt.gcf()\n",
    "fig.set_size_inches(18.5, 10.5)\n",
    "plt.savefig('covered.png')\n"
   ]
  }
 ],
 "metadata": {
  "kernelspec": {
   "display_name": "Python 3",
   "language": "python",
   "name": "python3"
  },
  "language_info": {
   "codemirror_mode": {
    "name": "ipython",
    "version": 3
   },
   "file_extension": ".py",
   "mimetype": "text/x-python",
   "name": "python",
   "nbconvert_exporter": "python",
   "pygments_lexer": "ipython3",
   "version": "3.10.7"
  },
  "notebookId": "92134929-fd16-447d-84aa-b0c2905515f9",
  "notebookPath": "modeltraining_ru1.ipynb",
  "vscode": {
   "interpreter": {
    "hash": "369f2c481f4da34e4445cda3fffd2e751bd1c4d706f27375911949ba6bb62e1c"
   }
  },
  "ydsNotebookPath": "modeltraining.ipynb"
 },
 "nbformat": 4,
 "nbformat_minor": 4
}
